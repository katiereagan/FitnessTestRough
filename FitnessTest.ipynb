{
 "cells": [
  {
   "cell_type": "code",
   "execution_count": 75,
   "id": "41be1bb6",
   "metadata": {},
   "outputs": [
    {
     "name": "stdout",
     "output_type": "stream",
     "text": [
      "[0.006578776041666666, 16, 16]\n"
     ]
    }
   ],
   "source": [
    "import sys\n",
    "from skimage import color\n",
    "import numpy as np\n",
    "from PIL import Image\n",
    "\n",
    "inferred_image = Image.open('/Users/shadowrainbow/Desktop/Cleaned_Images/Waterbottle_GT_Cleaned - Catalina Diaz.jpg')\n",
    "inferred = np.array(inferred_image)\n",
    "GT_image = Image.open('/Users/shadowrainbow/Desktop/Cleaned_Images/Waterbottle_GT_Cleaned - Navya Bhardwaj.jpg')\n",
    "GT = np.array(GT_image)\n",
    "\n",
    "def countMatches(inferred, GT):\n",
    "    assert inferred.shape == GT.shape\n",
    "    m = set()\n",
    "    n = set()\n",
    "    setcounts = dict()\n",
    "    for r in range(inferred.shape[0]):\n",
    "        for c in range(inferred.shape[1]):\n",
    "            i_key = inferred[r, c]\n",
    "            m.add(i_key)\n",
    "            g_key = GT[r, c]\n",
    "            n.add(g_key)\n",
    "            if i_key in setcounts:\n",
    "                if g_key in setcounts[i_key]:\n",
    "                    setcounts[i_key][g_key] += 1\n",
    "                else:\n",
    "                    setcounts[i_key][g_key] = 1\n",
    "            else:\n",
    "                setcounts[i_key] = dict()\n",
    "                setcounts[i_key][g_key] = 1\n",
    "    return setcounts, len(m), len(n)\n",
    "\n",
    "def countsets(setcounts):\n",
    "    p = 0\n",
    "    total = 0\n",
    "    L_sets = set()\n",
    "    best = dict()\n",
    "\n",
    "    for i_key in setcounts:\n",
    "        my_mx = 0\n",
    "        mx_key = ''\n",
    "        for g_key in setcounts[i_key]:\n",
    "            total += setcounts[i_key][g_key]\n",
    "            if setcounts[i_key][g_key] > my_mx:\n",
    "                my_mx = setcounts[i_key][g_key]\n",
    "                mx_key = g_key\n",
    "        p += my_mx\n",
    "        L_sets.add(mx_key)\n",
    "        best[i_key] = mx_key\n",
    "    L = len(L_sets)\n",
    "    return total - p, L, best\n",
    "\n",
    "def FF_ML2DHD_V2(inferred, GT):\n",
    "    if len(inferred.shape) > 2:\n",
    "        inferred = color.rgb2gray(inferred)\n",
    "    if len(GT.shape) > 2:\n",
    "        GT = color.rgb2gray(gt)\n",
    "\n",
    "    TP = GT.shape[0] * GT.shape[1]\n",
    "    setcounts, m, n = countMatches(inferred, GT)\n",
    "    p, L, best = countsets(setcounts)\n",
    "\n",
    "    test = set()\n",
    "    for key in best:\n",
    "        test.add(best[key])\n",
    "\n",
    "    if len(test) == 1:\n",
    "        error = 1.5\n",
    "    else:\n",
    "        error = (p / TP + np.abs(n - m) / (n + m)\n",
    "                 )**(1 - np.abs(n - m) / (n + m))\n",
    "\n",
    "    return [error, n, m]\n",
    "\n",
    "print(FF_ML2DHD_V2(inferred, GT))"
   ]
  },
  {
   "cell_type": "code",
   "execution_count": null,
   "id": "b3325f6e",
   "metadata": {},
   "outputs": [],
   "source": []
  }
 ],
 "metadata": {
  "kernelspec": {
   "display_name": "Python 3 (ipykernel)",
   "language": "python",
   "name": "python3"
  },
  "language_info": {
   "codemirror_mode": {
    "name": "ipython",
    "version": 3
   },
   "file_extension": ".py",
   "mimetype": "text/x-python",
   "name": "python",
   "nbconvert_exporter": "python",
   "pygments_lexer": "ipython3",
   "version": "3.10.9"
  }
 },
 "nbformat": 4,
 "nbformat_minor": 5
}
